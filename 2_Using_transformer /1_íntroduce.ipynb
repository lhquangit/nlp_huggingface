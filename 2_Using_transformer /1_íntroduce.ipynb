{
 "cells": [
  {
   "attachments": {},
   "cell_type": "markdown",
   "metadata": {},
   "source": [
    "### Introduction"
   ]
  },
  {
   "attachments": {},
   "cell_type": "markdown",
   "metadata": {},
   "source": [
    "- Các mô hình Transformer thường rất lớn nên việc đào tạo và triển khai các mô hình này rất phức tạp\n",
    "- Thư viện Transformer gải quyết vấn đề này. Mục đích của nó là cung cấp API cho việc tải, huấn luyện và lưu mô hình\n",
    "- Các chức năng chính của mô hình là:\n",
    "    + Dễ sử dụng: Việc tải xuống và sử dụng mô hình NLP tiên tiến để suy luận có thể được thực hiện chỉ bằng hai dòng mã.\n",
    "    + Tính linh hoạt: Về cốt lõi, tất cả các mô hình đều là các lớp PyTorch nn.Module hoặc TensorFlow tf.keras.Model đơn giản và có thể được xử lý giống như bất kỳ mô hình nào khác trong khung máy học (ML) tương ứng của chúng.\n",
    "    + Tính đơn giản: Hầu như không có bất kỳ sự trừu tượng nào được thực hiện trong thư viện. “Tất cả trong một tệp” là khái niệm cốt lõi"
   ]
  },
  {
   "attachments": {},
   "cell_type": "markdown",
   "metadata": {},
   "source": [
    "**Nội dung chính của chương:**\n",
    "- Ví dụ chi tiết về về cách sử dụng model và tokenizer để tái tạo hàm Pipeline\n",
    "- Thảo luận về model API: \n",
    "    + Đi sâu vào model và các config class\n",
    "    + Cách tải 1 model và xử lý các đầu vào dạng số"
   ]
  },
  {
   "cell_type": "markdown",
   "metadata": {},
   "source": []
  }
 ],
 "metadata": {
  "language_info": {
   "name": "python"
  },
  "orig_nbformat": 4
 },
 "nbformat": 4,
 "nbformat_minor": 2
}
